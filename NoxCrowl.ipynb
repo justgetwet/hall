{
 "cells": [
  {
   "cell_type": "code",
   "execution_count": 11,
   "id": "3cc86eac",
   "metadata": {},
   "outputs": [
    {
     "name": "stdout",
     "output_type": "stream",
     "text": [
      "{'41': 'タロウ', '42': 'タロウ', '43': 'タロウ', '44': 'タロウ', '45': 'タロウ', '46': 'タロウ', '47': '禁書', '48': '禁書', '49': '禁書', '50': '禁書', '51': '禁書', '52': '禁書', '53': 'アリア', '54': 'アリア', '81': '戦コレ', '82': '真牙狼', '83': '真牙狼', '84': '真牙狼', '87': '乙女6', '88': '乙女6', '89': '物語2', '90': '物語2', '121': 'モンキー', '125': 'ギンパラ', '126': 'ギンパラ', '127': 'ガルパン', '128': 'ガルパン', '129': '信奈全国', '130': '信奈全国', '334': '轟音', '335': '轟音', '336': '轟音', '337': '轟音', '405': 'ゴルゴ', '406': 'ゴルゴ', '401': '冬ソナ', '402': '冬ソナ', '447': '超乱舞', '448': '超乱舞', '453': '決戦', '454': '決戦', '455': '決戦', '571': '決戦A', '500': 'Mキュン', '521': 'HOTD', '525': 'カグラ', '563': 'TURBO', '616': 'TURBO', '576': 'AKB桜', '567': 'まどか', '611': 'まどか', '579': 'まわるん', '580': '金富士', '601': '999'}\n"
     ]
    }
   ],
   "source": [
    "ds_kamisato = {\n",
    "    \"41\": \"タロウ\", \"42\": \"タロウ\", \"43\": \"タロウ\", \"44\": \"タロウ\", \"45\": \"タロウ\", \"46\": \"タロウ\", \n",
    "    \"47\": \"禁書\", \"48\": \"禁書\", \"49\": \"禁書\", \"50\": \"禁書\", \"51\": \"禁書\", \"52\": \"禁書\",\n",
    "    \"53\": \"アリア\", \"54\": \"アリア\", \"81\": \"戦コレ\", \"82\": \"真牙狼\", \"83\": \"真牙狼\", \"84\": \"真牙狼\", \n",
    "    \"87\": \"乙女6\", \"88\": \"乙女6\", \"89\": \"物語2\", \"90\": \"物語2\", \"121\": \"モンキー\",\n",
    "    \"125\": \"ギンパラ\", \"126\": \"ギンパラ\", \"127\": \"ガルパン\", \"128\": \"ガルパン\", \n",
    "    \"129\": \"信奈全国\", \"130\": \"信奈全国\", \"334\": \"轟音\", \"335\": \"轟音\", \"336\": \"轟音\", \"337\": \"轟音\", \n",
    "    \"405\": \"ゴルゴ\", \"406\": \"ゴルゴ\", \"401\": \"冬ソナ\", \"402\": \"冬ソナ\", \n",
    "    \"447\": \"超乱舞\", \"448\": \"超乱舞\", \"453\": \"決戦\", \"454\": \"決戦\", \"455\": \"決戦\", \"571\": \"決戦A\", \n",
    "    \"500\": \"Mキュン\", \"521\": \"HOTD\", \"525\": \"カグラ\", \"563\": \"TURBO\", \"616\": \"TURBO\", \n",
    "    \"576\": \"AKB桜\", \"567\": \"まどか\", \"611\": \"まどか\", \"579\": \"まわるん\", \"580\": \"金富士\", \"601\": \"999\"\n",
    "}\n",
    "print(ds_kamisato)"
   ]
  },
  {
   "cell_type": "code",
   "execution_count": 37,
   "id": "3317dfbb",
   "metadata": {},
   "outputs": [
    {
     "name": "stdout",
     "output_type": "stream",
     "text": [
      "{'10': 'まどか', '46': '999', '42': '決戦A', '51': '決戦A', '89': 'AKB桜', '90': 'AKB桜', '149': '超乱舞', '150': '超乱舞', '463': 'TURBO', '474': 'TURBO', '495': 'TURBO'}\n"
     ]
    }
   ],
   "source": [
    "ds_kuragano =  {\n",
    "    \"10\": \"まどか\", \"46\": \"999\", \"42\": \"決戦A\", \"51\": \"決戦A\", \"89\": \"AKB桜\", \"90\": \"AKB桜\",\n",
    "    \"149\": \"超乱舞\", \"150\": \"超乱舞\", \"463\": \"TURBO\", \"474\": \"TURBO\", \"495\": \"TURBO\"\n",
    "}\n",
    "print(ds_kuragano)"
   ]
  },
  {
   "cell_type": "code",
   "execution_count": 11,
   "id": "3986325a",
   "metadata": {},
   "outputs": [
    {
     "name": "stdout",
     "output_type": "stream",
     "text": [
      "{'10': 'まどか', '46': '999', '42': '決戦A', '51': '決戦A', '89': 'AKB桜', '90': 'AKB桜', '149': '超乱舞', '150': '超乱舞', '200': 'ギンパラ', '201': 'ギンパラ', '202': 'ギンパラ', '203': 'ギンパラ', '463': 'TURBO', '474': 'TURBO', '495': 'TURBO'}\n"
     ]
    }
   ],
   "source": [
    "p = f\"ds_kuragano.json\"\n",
    "with open(p, \"r\", encoding=\"utf-8\") as f:\n",
    "    read_dic = json.load(f)\n",
    "print(read_dic)"
   ]
  },
  {
   "cell_type": "code",
   "execution_count": 5,
   "id": "c53bd916",
   "metadata": {},
   "outputs": [],
   "source": [
    "import json\n",
    "import datetime\n",
    "import pandas as pd\n",
    "\n",
    "def datestring():\n",
    "    dt_now = datetime.datetime.now()\n",
    "    oneday = datetime.timedelta(days=1)\n",
    "    if dt_now.hour < 13: dt_now -= oneday\n",
    "    yyyymmdd = dt_now.strftime('%Y-%m-%d')\n",
    "    return yyyymmdd"
   ]
  },
  {
   "cell_type": "code",
   "execution_count": 7,
   "id": "6f784b25",
   "metadata": {},
   "outputs": [
    {
     "name": "stdout",
     "output_type": "stream",
     "text": [
      "kamisato\n"
     ]
    }
   ],
   "source": [
    "# しょりするほーる\n",
    "# hall = \"kuragano\"\n",
    "hall = \"kamisato\"\n",
    "print(hall)"
   ]
  },
  {
   "cell_type": "code",
   "execution_count": 30,
   "id": "76b75a1b",
   "metadata": {},
   "outputs": [
    {
     "data": {
      "text/html": [
       "<div>\n",
       "<style scoped>\n",
       "    .dataframe tbody tr th:only-of-type {\n",
       "        vertical-align: middle;\n",
       "    }\n",
       "\n",
       "    .dataframe tbody tr th {\n",
       "        vertical-align: top;\n",
       "    }\n",
       "\n",
       "    .dataframe thead th {\n",
       "        text-align: right;\n",
       "    }\n",
       "</style>\n",
       "<table border=\"1\" class=\"dataframe\">\n",
       "  <thead>\n",
       "    <tr style=\"text-align: right;\">\n",
       "      <th></th>\n",
       "      <th>No</th>\n",
       "      <th>machine</th>\n",
       "      <th>date</th>\n",
       "      <th>初当</th>\n",
       "      <th>継続</th>\n",
       "      <th>最終</th>\n",
       "      <th>前日</th>\n",
       "    </tr>\n",
       "  </thead>\n",
       "  <tbody>\n",
       "    <tr>\n",
       "      <th>0</th>\n",
       "      <td>41</td>\n",
       "      <td>タロウ</td>\n",
       "      <td>08/16 00:44</td>\n",
       "      <td>0</td>\n",
       "      <td>0</td>\n",
       "      <td>191</td>\n",
       "      <td>280</td>\n",
       "    </tr>\n",
       "    <tr>\n",
       "      <th>1</th>\n",
       "      <td>43</td>\n",
       "      <td>タロウ</td>\n",
       "      <td>08/16 00:46</td>\n",
       "      <td>0</td>\n",
       "      <td>0</td>\n",
       "      <td>160</td>\n",
       "      <td>Do)</td>\n",
       "    </tr>\n",
       "    <tr>\n",
       "      <th>2</th>\n",
       "      <td>82</td>\n",
       "      <td>真牙狼</td>\n",
       "      <td>08/16 00:58</td>\n",
       "      <td>0</td>\n",
       "      <td>0</td>\n",
       "      <td>0</td>\n",
       "      <td>123</td>\n",
       "    </tr>\n",
       "    <tr>\n",
       "      <th>3</th>\n",
       "      <td>334</td>\n",
       "      <td>轟音</td>\n",
       "      <td>08/16 01:11</td>\n",
       "      <td>0</td>\n",
       "      <td>0</td>\n",
       "      <td>0</td>\n",
       "      <td>0</td>\n",
       "    </tr>\n",
       "    <tr>\n",
       "      <th>4</th>\n",
       "      <td>335</td>\n",
       "      <td>轟音</td>\n",
       "      <td>08/16 01:12</td>\n",
       "      <td>0</td>\n",
       "      <td>0</td>\n",
       "      <td>0</td>\n",
       "      <td>10</td>\n",
       "    </tr>\n",
       "    <tr>\n",
       "      <th>5</th>\n",
       "      <td>336</td>\n",
       "      <td>轟音</td>\n",
       "      <td>08/16 01:13</td>\n",
       "      <td>0</td>\n",
       "      <td>0</td>\n",
       "      <td>0</td>\n",
       "      <td>4</td>\n",
       "    </tr>\n",
       "    <tr>\n",
       "      <th>6</th>\n",
       "      <td>337</td>\n",
       "      <td>轟音</td>\n",
       "      <td>08/16 01:13</td>\n",
       "      <td>0</td>\n",
       "      <td>0</td>\n",
       "      <td>11</td>\n",
       "      <td>0</td>\n",
       "    </tr>\n",
       "    <tr>\n",
       "      <th>7</th>\n",
       "      <td>406</td>\n",
       "      <td>ゴルゴ</td>\n",
       "      <td>08/16 01:15</td>\n",
       "      <td>0</td>\n",
       "      <td>0</td>\n",
       "      <td>60</td>\n",
       "      <td>40</td>\n",
       "    </tr>\n",
       "    <tr>\n",
       "      <th>8</th>\n",
       "      <td>401</td>\n",
       "      <td>冬ソナ</td>\n",
       "      <td>08/16 01:16</td>\n",
       "      <td>0</td>\n",
       "      <td>0</td>\n",
       "      <td>73</td>\n",
       "      <td>0</td>\n",
       "    </tr>\n",
       "    <tr>\n",
       "      <th>9</th>\n",
       "      <td>402</td>\n",
       "      <td>冬ソナ</td>\n",
       "      <td>08/16 01:17</td>\n",
       "      <td>0</td>\n",
       "      <td>0</td>\n",
       "      <td>210</td>\n",
       "      <td>108</td>\n",
       "    </tr>\n",
       "    <tr>\n",
       "      <th>10</th>\n",
       "      <td>453</td>\n",
       "      <td>決戦</td>\n",
       "      <td>08/16 01:20</td>\n",
       "      <td>0</td>\n",
       "      <td>0</td>\n",
       "      <td>234</td>\n",
       "      <td>10</td>\n",
       "    </tr>\n",
       "    <tr>\n",
       "      <th>11</th>\n",
       "      <td>455</td>\n",
       "      <td>決戦</td>\n",
       "      <td>08/16 01:21</td>\n",
       "      <td>0</td>\n",
       "      <td>0</td>\n",
       "      <td>134</td>\n",
       "      <td>11</td>\n",
       "    </tr>\n",
       "    <tr>\n",
       "      <th>12</th>\n",
       "      <td>525</td>\n",
       "      <td>カグラ</td>\n",
       "      <td>08/16 01:25</td>\n",
       "      <td>0</td>\n",
       "      <td>0</td>\n",
       "      <td>38</td>\n",
       "      <td>18</td>\n",
       "    </tr>\n",
       "  </tbody>\n",
       "</table>\n",
       "</div>"
      ],
      "text/plain": [
       "     No machine         date 初当 継続   最終   前日\n",
       "0    41     タロウ  08/16 00:44  0  0  191  280\n",
       "1    43     タロウ  08/16 00:46  0  0  160  Do)\n",
       "2    82     真牙狼  08/16 00:58  0  0    0  123\n",
       "3   334      轟音  08/16 01:11  0  0    0    0\n",
       "4   335      轟音  08/16 01:12  0  0    0   10\n",
       "5   336      轟音  08/16 01:13  0  0    0    4\n",
       "6   337      轟音  08/16 01:13  0  0   11    0\n",
       "7   406     ゴルゴ  08/16 01:15  0  0   60   40\n",
       "8   401     冬ソナ  08/16 01:16  0  0   73    0\n",
       "9   402     冬ソナ  08/16 01:17  0  0  210  108\n",
       "10  453      決戦  08/16 01:20  0  0  234   10\n",
       "11  455      決戦  08/16 01:21  0  0  134   11\n",
       "12  525     カグラ  08/16 01:25  0  0   38   18"
      ]
     },
     "execution_count": 30,
     "metadata": {},
     "output_type": "execute_result"
    }
   ],
   "source": [
    "# きょうのでーた\n",
    "yyyymmdd = datestring()\n",
    "p = f\"./ds_{hall}_works_{yyyymmdd}.json\"\n",
    "with open(p, \"r\", encoding=\"utf-8\") as f:\n",
    "    read_dic = json.load(f)\n",
    "\n",
    "lst = [v for v in read_dic.values() if v[3] == \"0\"]\n",
    "col = [\"No\", \"machine\", \"date\", \"初当\", \"継続\", \"最終\", \"前日\"]\n",
    "today_df = pd.DataFrame(lst, columns=col)\n",
    "today_df"
   ]
  },
  {
   "cell_type": "code",
   "execution_count": 31,
   "id": "81bfc559",
   "metadata": {},
   "outputs": [
    {
     "data": {
      "text/html": [
       "<div>\n",
       "<style scoped>\n",
       "    .dataframe tbody tr th:only-of-type {\n",
       "        vertical-align: middle;\n",
       "    }\n",
       "\n",
       "    .dataframe tbody tr th {\n",
       "        vertical-align: top;\n",
       "    }\n",
       "\n",
       "    .dataframe thead th {\n",
       "        text-align: right;\n",
       "    }\n",
       "</style>\n",
       "<table border=\"1\" class=\"dataframe\">\n",
       "  <thead>\n",
       "    <tr style=\"text-align: right;\">\n",
       "      <th></th>\n",
       "      <th>No</th>\n",
       "      <th>machine</th>\n",
       "      <th>date</th>\n",
       "      <th>初当</th>\n",
       "      <th>継続</th>\n",
       "      <th>最終</th>\n",
       "      <th>前日</th>\n",
       "    </tr>\n",
       "  </thead>\n",
       "  <tbody>\n",
       "    <tr>\n",
       "      <th>0</th>\n",
       "      <td>250</td>\n",
       "      <td>タロウ</td>\n",
       "      <td>08/03 02:11</td>\n",
       "      <td>0</td>\n",
       "      <td>0</td>\n",
       "      <td>66</td>\n",
       "      <td>0</td>\n",
       "    </tr>\n",
       "    <tr>\n",
       "      <th>1</th>\n",
       "      <td>266</td>\n",
       "      <td>タロウ</td>\n",
       "      <td>08/03 02:12</td>\n",
       "      <td>0</td>\n",
       "      <td>0</td>\n",
       "      <td>0</td>\n",
       "      <td>20</td>\n",
       "    </tr>\n",
       "    <tr>\n",
       "      <th>2</th>\n",
       "      <td>267</td>\n",
       "      <td>タロウ</td>\n",
       "      <td>08/03 02:13</td>\n",
       "      <td>0</td>\n",
       "      <td>0</td>\n",
       "      <td>0</td>\n",
       "      <td>20</td>\n",
       "    </tr>\n",
       "  </tbody>\n",
       "</table>\n",
       "</div>"
      ],
      "text/plain": [
       "    No machine         date 初当 継続  最終  前日\n",
       "0  250     タロウ  08/03 02:11  0  0  66   0\n",
       "1  266     タロウ  08/03 02:12  0  0   0  20\n",
       "2  267     タロウ  08/03 02:13  0  0   0  20"
      ]
     },
     "execution_count": 31,
     "metadata": {},
     "output_type": "execute_result"
    }
   ],
   "source": [
    "# しゅうせい\n",
    "# today_df.drop(1, inplace=True)\n",
    "# today_df.drop(6, inplace=True)\n",
    "today_df.loc[0, \"初当\":\"前日\"] = [0,0,66,0]\n",
    "today_df.loc[1, \"初当\":\"前日\"] = [0,0,0,20]\n",
    "today_df.loc[2, \"初当\":\"前日\"] = [0,0,0,20]\n",
    "today_df"
   ]
  },
  {
   "cell_type": "code",
   "execution_count": 31,
   "id": "f44ba347",
   "metadata": {},
   "outputs": [
    {
     "data": {
      "text/html": [
       "<div>\n",
       "<style scoped>\n",
       "    .dataframe tbody tr th:only-of-type {\n",
       "        vertical-align: middle;\n",
       "    }\n",
       "\n",
       "    .dataframe tbody tr th {\n",
       "        vertical-align: top;\n",
       "    }\n",
       "\n",
       "    .dataframe thead th {\n",
       "        text-align: right;\n",
       "    }\n",
       "</style>\n",
       "<table border=\"1\" class=\"dataframe\">\n",
       "  <thead>\n",
       "    <tr style=\"text-align: right;\">\n",
       "      <th></th>\n",
       "      <th>0</th>\n",
       "      <th>1</th>\n",
       "      <th>2</th>\n",
       "      <th>3</th>\n",
       "      <th>4</th>\n",
       "      <th>5</th>\n",
       "      <th>6</th>\n",
       "    </tr>\n",
       "  </thead>\n",
       "  <tbody>\n",
       "    <tr>\n",
       "      <th>0</th>\n",
       "      <td>43</td>\n",
       "      <td>タロウ</td>\n",
       "      <td>08/14 02:04</td>\n",
       "      <td>0</td>\n",
       "      <td>0</td>\n",
       "      <td>14</td>\n",
       "      <td>4</td>\n",
       "    </tr>\n",
       "    <tr>\n",
       "      <th>1</th>\n",
       "      <td>43</td>\n",
       "      <td>タロウ</td>\n",
       "      <td>08/15 03:47</td>\n",
       "      <td>0</td>\n",
       "      <td>0</td>\n",
       "      <td>5)</td>\n",
       "      <td>14</td>\n",
       "    </tr>\n",
       "    <tr>\n",
       "      <th>2</th>\n",
       "      <td>49</td>\n",
       "      <td>禁書</td>\n",
       "      <td>08/15 03:52</td>\n",
       "      <td>0</td>\n",
       "      <td>0</td>\n",
       "      <td>88</td>\n",
       "      <td>16</td>\n",
       "    </tr>\n",
       "    <tr>\n",
       "      <th>3</th>\n",
       "      <td>87</td>\n",
       "      <td>乙女6</td>\n",
       "      <td>08/15 04:01</td>\n",
       "      <td>0</td>\n",
       "      <td>0</td>\n",
       "      <td>151</td>\n",
       "      <td>6</td>\n",
       "    </tr>\n",
       "    <tr>\n",
       "      <th>4</th>\n",
       "      <td>334</td>\n",
       "      <td>轟音</td>\n",
       "      <td>08/13 03:12</td>\n",
       "      <td>0</td>\n",
       "      <td>0</td>\n",
       "      <td>0</td>\n",
       "      <td>0</td>\n",
       "    </tr>\n",
       "    <tr>\n",
       "      <th>5</th>\n",
       "      <td>334</td>\n",
       "      <td>轟音</td>\n",
       "      <td>08/14 02:37</td>\n",
       "      <td>0</td>\n",
       "      <td>0</td>\n",
       "      <td>13</td>\n",
       "      <td>0</td>\n",
       "    </tr>\n",
       "    <tr>\n",
       "      <th>6</th>\n",
       "      <td>334</td>\n",
       "      <td>轟音</td>\n",
       "      <td>08/15 04:11</td>\n",
       "      <td>0</td>\n",
       "      <td>0</td>\n",
       "      <td>0</td>\n",
       "      <td>13</td>\n",
       "    </tr>\n",
       "    <tr>\n",
       "      <th>7</th>\n",
       "      <td>335</td>\n",
       "      <td>轟音</td>\n",
       "      <td>08/13 03:13</td>\n",
       "      <td>0</td>\n",
       "      <td>0</td>\n",
       "      <td>0</td>\n",
       "      <td>0</td>\n",
       "    </tr>\n",
       "    <tr>\n",
       "      <th>8</th>\n",
       "      <td>335</td>\n",
       "      <td>轟音</td>\n",
       "      <td>08/14 02:38</td>\n",
       "      <td>0</td>\n",
       "      <td>0</td>\n",
       "      <td>6</td>\n",
       "      <td>0</td>\n",
       "    </tr>\n",
       "    <tr>\n",
       "      <th>9</th>\n",
       "      <td>335</td>\n",
       "      <td>轟音</td>\n",
       "      <td>08/15 04:12</td>\n",
       "      <td>0</td>\n",
       "      <td>0</td>\n",
       "      <td>10</td>\n",
       "      <td>6</td>\n",
       "    </tr>\n",
       "  </tbody>\n",
       "</table>\n",
       "</div>"
      ],
      "text/plain": [
       "     0    1            2  3  4    5   6\n",
       "0   43  タロウ  08/14 02:04  0  0   14   4\n",
       "1   43  タロウ  08/15 03:47  0  0   5)  14\n",
       "2   49   禁書  08/15 03:52  0  0   88  16\n",
       "3   87  乙女6  08/15 04:01  0  0  151   6\n",
       "4  334   轟音  08/13 03:12  0  0    0   0\n",
       "5  334   轟音  08/14 02:37  0  0   13   0\n",
       "6  334   轟音  08/15 04:11  0  0    0  13\n",
       "7  335   轟音  08/13 03:13  0  0    0   0\n",
       "8  335   轟音  08/14 02:38  0  0    6   0\n",
       "9  335   轟音  08/15 04:12  0  0   10   6"
      ]
     },
     "execution_count": 31,
     "metadata": {},
     "output_type": "execute_result"
    }
   ],
   "source": [
    "# ぜんじつのでーた\n",
    "dt_now = datetime.datetime.now()\n",
    "oneday = datetime.timedelta(days=1)\n",
    "if dt_now.hour < 13: dt_now -= oneday\n",
    "dt_now -= oneday\n",
    "yyyymmdd = dt_now.strftime('%Y-%m-%d')\n",
    "\n",
    "p = f\"./ds_{hall}_{yyyymmdd}.json\"\n",
    "with open(p, \"r\", encoding=\"utf-8\") as f:\n",
    "    read_dic = json.load(f)\n",
    "pre_df = pd.DataFrame(read_dic.values())\n",
    "pre_df.head(10)"
   ]
  },
  {
   "cell_type": "code",
   "execution_count": 32,
   "id": "7c16c97f",
   "metadata": {},
   "outputs": [
    {
     "data": {
      "text/html": [
       "<div>\n",
       "<style scoped>\n",
       "    .dataframe tbody tr th:only-of-type {\n",
       "        vertical-align: middle;\n",
       "    }\n",
       "\n",
       "    .dataframe tbody tr th {\n",
       "        vertical-align: top;\n",
       "    }\n",
       "\n",
       "    .dataframe thead th {\n",
       "        text-align: right;\n",
       "    }\n",
       "</style>\n",
       "<table border=\"1\" class=\"dataframe\">\n",
       "  <thead>\n",
       "    <tr style=\"text-align: right;\">\n",
       "      <th></th>\n",
       "      <th>No</th>\n",
       "      <th>machine</th>\n",
       "      <th>date</th>\n",
       "      <th>初当</th>\n",
       "      <th>継続</th>\n",
       "      <th>最終</th>\n",
       "      <th>前日</th>\n",
       "    </tr>\n",
       "  </thead>\n",
       "  <tbody>\n",
       "    <tr>\n",
       "      <th>0</th>\n",
       "      <td>41</td>\n",
       "      <td>タロウ</td>\n",
       "      <td>08/16 00:44</td>\n",
       "      <td>0</td>\n",
       "      <td>0</td>\n",
       "      <td>191</td>\n",
       "      <td>280</td>\n",
       "    </tr>\n",
       "    <tr>\n",
       "      <th>1</th>\n",
       "      <td>43</td>\n",
       "      <td>タロウ</td>\n",
       "      <td>08/14 02:04</td>\n",
       "      <td>0</td>\n",
       "      <td>0</td>\n",
       "      <td>14</td>\n",
       "      <td>4</td>\n",
       "    </tr>\n",
       "    <tr>\n",
       "      <th>2</th>\n",
       "      <td>43</td>\n",
       "      <td>タロウ</td>\n",
       "      <td>08/15 03:47</td>\n",
       "      <td>0</td>\n",
       "      <td>0</td>\n",
       "      <td>5)</td>\n",
       "      <td>14</td>\n",
       "    </tr>\n",
       "    <tr>\n",
       "      <th>3</th>\n",
       "      <td>43</td>\n",
       "      <td>タロウ</td>\n",
       "      <td>08/16 00:46</td>\n",
       "      <td>0</td>\n",
       "      <td>0</td>\n",
       "      <td>160</td>\n",
       "      <td>Do)</td>\n",
       "    </tr>\n",
       "    <tr>\n",
       "      <th>4</th>\n",
       "      <td>82</td>\n",
       "      <td>真牙狼</td>\n",
       "      <td>08/16 00:58</td>\n",
       "      <td>0</td>\n",
       "      <td>0</td>\n",
       "      <td>0</td>\n",
       "      <td>123</td>\n",
       "    </tr>\n",
       "    <tr>\n",
       "      <th>5</th>\n",
       "      <td>334</td>\n",
       "      <td>轟音</td>\n",
       "      <td>08/13 03:12</td>\n",
       "      <td>0</td>\n",
       "      <td>0</td>\n",
       "      <td>0</td>\n",
       "      <td>0</td>\n",
       "    </tr>\n",
       "    <tr>\n",
       "      <th>6</th>\n",
       "      <td>334</td>\n",
       "      <td>轟音</td>\n",
       "      <td>08/14 02:37</td>\n",
       "      <td>0</td>\n",
       "      <td>0</td>\n",
       "      <td>13</td>\n",
       "      <td>0</td>\n",
       "    </tr>\n",
       "    <tr>\n",
       "      <th>7</th>\n",
       "      <td>334</td>\n",
       "      <td>轟音</td>\n",
       "      <td>08/15 04:11</td>\n",
       "      <td>0</td>\n",
       "      <td>0</td>\n",
       "      <td>0</td>\n",
       "      <td>13</td>\n",
       "    </tr>\n",
       "    <tr>\n",
       "      <th>8</th>\n",
       "      <td>334</td>\n",
       "      <td>轟音</td>\n",
       "      <td>08/16 01:11</td>\n",
       "      <td>0</td>\n",
       "      <td>0</td>\n",
       "      <td>0</td>\n",
       "      <td>0</td>\n",
       "    </tr>\n",
       "    <tr>\n",
       "      <th>9</th>\n",
       "      <td>335</td>\n",
       "      <td>轟音</td>\n",
       "      <td>08/13 03:13</td>\n",
       "      <td>0</td>\n",
       "      <td>0</td>\n",
       "      <td>0</td>\n",
       "      <td>0</td>\n",
       "    </tr>\n",
       "  </tbody>\n",
       "</table>\n",
       "</div>"
      ],
      "text/plain": [
       "    No machine         date 初当 継続   最終   前日\n",
       "0   41     タロウ  08/16 00:44  0  0  191  280\n",
       "1   43     タロウ  08/14 02:04  0  0   14    4\n",
       "2   43     タロウ  08/15 03:47  0  0   5)   14\n",
       "3   43     タロウ  08/16 00:46  0  0  160  Do)\n",
       "4   82     真牙狼  08/16 00:58  0  0    0  123\n",
       "5  334      轟音  08/13 03:12  0  0    0    0\n",
       "6  334      轟音  08/14 02:37  0  0   13    0\n",
       "7  334      轟音  08/15 04:11  0  0    0   13\n",
       "8  334      轟音  08/16 01:11  0  0    0    0\n",
       "9  335      轟音  08/13 03:13  0  0    0    0"
      ]
     },
     "execution_count": 32,
     "metadata": {},
     "output_type": "execute_result"
    }
   ],
   "source": [
    "#　まーじ\n",
    "lst = []\n",
    "for row in today_df.itertuples():\n",
    "    lst.append(list(row[1:]))\n",
    "    lst += [list(r[1:]) for r in pre_df.itertuples() if row.No == r._1]\n",
    "col = [\"No\", \"machine\", \"date\", \"初当\", \"継続\", \"最終\", \"前日\"]\n",
    "merge_df = pd.DataFrame(lst, columns=col).sort_values(['No', 'date']).reset_index(drop=True)\n",
    "merge_df.head(10)"
   ]
  },
  {
   "cell_type": "code",
   "execution_count": 33,
   "id": "cdda3b31",
   "metadata": {},
   "outputs": [
    {
     "name": "stdout",
     "output_type": "stream",
     "text": [
      "./ds_kamisato_2021-08-15.json saved\n"
     ]
    }
   ],
   "source": [
    "# ほぞん\n",
    "yyyymmdd = datestring()\n",
    "dic = {idx: list(row) for idx, row in merge_df.iterrows()}\n",
    "read_json = json.dumps(dic, ensure_ascii=False)\n",
    "p_w = f\"./ds_{hall}_{yyyymmdd}.json\"\n",
    "with open(p_w, \"w\", encoding=\"utf-8\") as f:\n",
    "    f.write(read_json)\n",
    "print(f\"{p_w} saved\")"
   ]
  },
  {
   "cell_type": "code",
   "execution_count": 82,
   "id": "48f648fb",
   "metadata": {},
   "outputs": [
    {
     "data": {
      "text/html": [
       "<div>\n",
       "<style scoped>\n",
       "    .dataframe tbody tr th:only-of-type {\n",
       "        vertical-align: middle;\n",
       "    }\n",
       "\n",
       "    .dataframe tbody tr th {\n",
       "        vertical-align: top;\n",
       "    }\n",
       "\n",
       "    .dataframe thead th {\n",
       "        text-align: right;\n",
       "    }\n",
       "</style>\n",
       "<table border=\"1\" class=\"dataframe\">\n",
       "  <thead>\n",
       "    <tr style=\"text-align: right;\">\n",
       "      <th></th>\n",
       "      <th>No</th>\n",
       "      <th>machine</th>\n",
       "      <th>date</th>\n",
       "      <th>初当</th>\n",
       "      <th>継続</th>\n",
       "      <th>最終</th>\n",
       "      <th>前日</th>\n",
       "    </tr>\n",
       "  </thead>\n",
       "  <tbody>\n",
       "    <tr>\n",
       "      <th>0</th>\n",
       "      <td>43</td>\n",
       "      <td>タロウ</td>\n",
       "      <td>08/11 01:32</td>\n",
       "      <td>0</td>\n",
       "      <td>0</td>\n",
       "      <td>65</td>\n",
       "      <td>12</td>\n",
       "    </tr>\n",
       "    <tr>\n",
       "      <th>1</th>\n",
       "      <td>50</td>\n",
       "      <td>禁書</td>\n",
       "      <td>08/11 01:39</td>\n",
       "      <td>0</td>\n",
       "      <td>0</td>\n",
       "      <td>0</td>\n",
       "      <td>108</td>\n",
       "    </tr>\n",
       "    <tr>\n",
       "      <th>2</th>\n",
       "      <td>51</td>\n",
       "      <td>禁書</td>\n",
       "      <td>08/11 01:41</td>\n",
       "      <td>0</td>\n",
       "      <td>0</td>\n",
       "      <td>20</td>\n",
       "      <td>46</td>\n",
       "    </tr>\n",
       "    <tr>\n",
       "      <th>3</th>\n",
       "      <td>81</td>\n",
       "      <td>戦コレ</td>\n",
       "      <td>08/11 01:45</td>\n",
       "      <td>0</td>\n",
       "      <td>0</td>\n",
       "      <td>0</td>\n",
       "      <td>9</td>\n",
       "    </tr>\n",
       "    <tr>\n",
       "      <th>4</th>\n",
       "      <td>82</td>\n",
       "      <td>真牙狼</td>\n",
       "      <td>08/11 01:46</td>\n",
       "      <td>0</td>\n",
       "      <td>0</td>\n",
       "      <td>16</td>\n",
       "      <td>261</td>\n",
       "    </tr>\n",
       "    <tr>\n",
       "      <th>5</th>\n",
       "      <td>83</td>\n",
       "      <td>真牙狼</td>\n",
       "      <td>08/11 01:47</td>\n",
       "      <td>0</td>\n",
       "      <td>0</td>\n",
       "      <td>0</td>\n",
       "      <td>22</td>\n",
       "    </tr>\n",
       "    <tr>\n",
       "      <th>6</th>\n",
       "      <td>84</td>\n",
       "      <td>真牙狼</td>\n",
       "      <td>08/11 01:48</td>\n",
       "      <td>0</td>\n",
       "      <td>0</td>\n",
       "      <td>14</td>\n",
       "      <td>7</td>\n",
       "    </tr>\n",
       "    <tr>\n",
       "      <th>7</th>\n",
       "      <td>89</td>\n",
       "      <td>物語2</td>\n",
       "      <td>08/11 01:50</td>\n",
       "      <td>0</td>\n",
       "      <td>0</td>\n",
       "      <td>31</td>\n",
       "      <td>132</td>\n",
       "    </tr>\n",
       "    <tr>\n",
       "      <th>8</th>\n",
       "      <td>90</td>\n",
       "      <td>物語2</td>\n",
       "      <td>08/11 01:51</td>\n",
       "      <td>0</td>\n",
       "      <td>0</td>\n",
       "      <td>268</td>\n",
       "      <td>36</td>\n",
       "    </tr>\n",
       "    <tr>\n",
       "      <th>9</th>\n",
       "      <td>125</td>\n",
       "      <td>ギンパラ</td>\n",
       "      <td>08/11 01:53</td>\n",
       "      <td>0</td>\n",
       "      <td>0</td>\n",
       "      <td>73</td>\n",
       "      <td>0</td>\n",
       "    </tr>\n",
       "    <tr>\n",
       "      <th>10</th>\n",
       "      <td>126</td>\n",
       "      <td>ギンパラ</td>\n",
       "      <td>08/11 01:54</td>\n",
       "      <td>0</td>\n",
       "      <td>0</td>\n",
       "      <td>111</td>\n",
       "      <td>141</td>\n",
       "    </tr>\n",
       "    <tr>\n",
       "      <th>11</th>\n",
       "      <td>334</td>\n",
       "      <td>轟音</td>\n",
       "      <td>08/11 02:00</td>\n",
       "      <td>0</td>\n",
       "      <td>0</td>\n",
       "      <td>0</td>\n",
       "      <td>0</td>\n",
       "    </tr>\n",
       "    <tr>\n",
       "      <th>12</th>\n",
       "      <td>335</td>\n",
       "      <td>轟音</td>\n",
       "      <td>08/11 02:01</td>\n",
       "      <td>0</td>\n",
       "      <td>0</td>\n",
       "      <td>0</td>\n",
       "      <td>0</td>\n",
       "    </tr>\n",
       "    <tr>\n",
       "      <th>13</th>\n",
       "      <td>336</td>\n",
       "      <td>轟音</td>\n",
       "      <td>08/11 02:02</td>\n",
       "      <td>0</td>\n",
       "      <td>0</td>\n",
       "      <td>0</td>\n",
       "      <td>167</td>\n",
       "    </tr>\n",
       "    <tr>\n",
       "      <th>14</th>\n",
       "      <td>337</td>\n",
       "      <td>轟音</td>\n",
       "      <td>08/11 02:03</td>\n",
       "      <td>0</td>\n",
       "      <td>0</td>\n",
       "      <td>0</td>\n",
       "      <td>13</td>\n",
       "    </tr>\n",
       "    <tr>\n",
       "      <th>15</th>\n",
       "      <td>406</td>\n",
       "      <td>ゴルゴ</td>\n",
       "      <td>08/11 02:05</td>\n",
       "      <td>0</td>\n",
       "      <td>0</td>\n",
       "      <td>0</td>\n",
       "      <td>7</td>\n",
       "    </tr>\n",
       "    <tr>\n",
       "      <th>16</th>\n",
       "      <td>401</td>\n",
       "      <td>冬ソナ</td>\n",
       "      <td>08/11 02:06</td>\n",
       "      <td>0</td>\n",
       "      <td>0</td>\n",
       "      <td>0</td>\n",
       "      <td>B5</td>\n",
       "    </tr>\n",
       "    <tr>\n",
       "      <th>17</th>\n",
       "      <td>402</td>\n",
       "      <td>冬ソナ</td>\n",
       "      <td>08/11 02:07</td>\n",
       "      <td>0</td>\n",
       "      <td>0</td>\n",
       "      <td>0</td>\n",
       "      <td>0</td>\n",
       "    </tr>\n",
       "    <tr>\n",
       "      <th>18</th>\n",
       "      <td>448</td>\n",
       "      <td>超乱舞</td>\n",
       "      <td>08/11 02:09</td>\n",
       "      <td>0</td>\n",
       "      <td>0</td>\n",
       "      <td>56</td>\n",
       "      <td>18</td>\n",
       "    </tr>\n",
       "    <tr>\n",
       "      <th>19</th>\n",
       "      <td>453</td>\n",
       "      <td>決戦</td>\n",
       "      <td>08/11 02:10</td>\n",
       "      <td>0</td>\n",
       "      <td>0</td>\n",
       "      <td>0</td>\n",
       "      <td>5)</td>\n",
       "    </tr>\n",
       "    <tr>\n",
       "      <th>20</th>\n",
       "      <td>454</td>\n",
       "      <td>決戦</td>\n",
       "      <td>08/11 02:11</td>\n",
       "      <td>0</td>\n",
       "      <td>0</td>\n",
       "      <td>12</td>\n",
       "      <td>50</td>\n",
       "    </tr>\n",
       "    <tr>\n",
       "      <th>21</th>\n",
       "      <td>521</td>\n",
       "      <td>HOTD</td>\n",
       "      <td>08/11 02:16</td>\n",
       "      <td>0</td>\n",
       "      <td>0</td>\n",
       "      <td>0</td>\n",
       "      <td>7</td>\n",
       "    </tr>\n",
       "  </tbody>\n",
       "</table>\n",
       "</div>"
      ],
      "text/plain": [
       "     No machine         date 初当 継続   最終   前日\n",
       "0    43     タロウ  08/11 01:32  0  0   65   12\n",
       "1    50      禁書  08/11 01:39  0  0    0  108\n",
       "2    51      禁書  08/11 01:41  0  0   20   46\n",
       "3    81     戦コレ  08/11 01:45  0  0    0    9\n",
       "4    82     真牙狼  08/11 01:46  0  0   16  261\n",
       "5    83     真牙狼  08/11 01:47  0  0    0   22\n",
       "6    84     真牙狼  08/11 01:48  0  0   14    7\n",
       "7    89     物語2  08/11 01:50  0  0   31  132\n",
       "8    90     物語2  08/11 01:51  0  0  268   36\n",
       "9   125    ギンパラ  08/11 01:53  0  0   73    0\n",
       "10  126    ギンパラ  08/11 01:54  0  0  111  141\n",
       "11  334      轟音  08/11 02:00  0  0    0    0\n",
       "12  335      轟音  08/11 02:01  0  0    0    0\n",
       "13  336      轟音  08/11 02:02  0  0    0  167\n",
       "14  337      轟音  08/11 02:03  0  0    0   13\n",
       "15  406     ゴルゴ  08/11 02:05  0  0    0    7\n",
       "16  401     冬ソナ  08/11 02:06  0  0    0   B5\n",
       "17  402     冬ソナ  08/11 02:07  0  0    0    0\n",
       "18  448     超乱舞  08/11 02:09  0  0   56   18\n",
       "19  453      決戦  08/11 02:10  0  0    0   5)\n",
       "20  454      決戦  08/11 02:11  0  0   12   50\n",
       "21  521    HOTD  08/11 02:16  0  0    0    7"
      ]
     },
     "execution_count": 82,
     "metadata": {},
     "output_type": "execute_result"
    }
   ],
   "source": [
    "yyyymmdd = \"2021-08-10\"\n",
    "work_p = f\"./ds_kamisato_works_{yyyymmdd}.json\"\n",
    "with open(work_p, \"r\", encoding=\"utf-8\") as f:\n",
    "    read_dic = json.load(f)\n",
    "\n",
    "# lst = [[key, *item] for key, item in read_dic.items()]\n",
    "lst = [list(v) for v in read_dic.values()]\n",
    "col = [\"No\", \"machine\", \"date\", \"初当\", \"継続\", \"最終\", \"前日\"]\n",
    "df = pd.DataFrame(lst, columns=col)\n",
    "df"
   ]
  },
  {
   "cell_type": "code",
   "execution_count": 119,
   "id": "2c58dbff",
   "metadata": {},
   "outputs": [
    {
     "name": "stdout",
     "output_type": "stream",
     "text": [
      "   A  B  C\n",
      "0  0  1  2\n",
      "1  3  4  5\n"
     ]
    }
   ],
   "source": [
    "l1 = [0, 1, 2]\n",
    "l2 = [3, 4, 5]\n",
    "cols = [\"A\", \"B\", \"C\"]\n",
    "df = pd.DataFrame([l1, l2], columns=cols)\n",
    "print(df)"
   ]
  },
  {
   "cell_type": "code",
   "execution_count": 131,
   "id": "4e6275bb",
   "metadata": {},
   "outputs": [
    {
     "name": "stdout",
     "output_type": "stream",
     "text": [
      "       A  B  C\n",
      "bob    0  1  2\n",
      "alice  3  4  5\n"
     ]
    }
   ],
   "source": [
    "d1 = {\"A\": 0, \"B\": 1, \"C\": 2}\n",
    "d2 = {\"A\": 3, \"B\": 4, \"C\": 5}\n",
    "df = pd.DataFrame([d1, d2], index=[\"bob\", \"alice\"])\n",
    "print(df)"
   ]
  },
  {
   "cell_type": "code",
   "execution_count": 132,
   "id": "5394b535",
   "metadata": {},
   "outputs": [
    {
     "name": "stdout",
     "output_type": "stream",
     "text": [
      "   bob  alice\n",
      "A    0      3\n",
      "B    1      4\n",
      "C    2      5\n"
     ]
    }
   ],
   "source": [
    "dic = {\"bob\": [0, 1, 2], \"alice\": [3, 4, 5]}\n",
    "df = pd.DataFrame(dic, index=[\"A\", \"B\", \"C\"])\n",
    "print(df)"
   ]
  },
  {
   "cell_type": "code",
   "execution_count": 133,
   "id": "a9c46e4d",
   "metadata": {},
   "outputs": [
    {
     "name": "stdout",
     "output_type": "stream",
     "text": [
      "       A  B  C\n",
      "bob    0  1  2\n",
      "alice  3  4  5\n"
     ]
    }
   ],
   "source": [
    "print(df.T)"
   ]
  },
  {
   "cell_type": "code",
   "execution_count": 134,
   "id": "ab0c94fd",
   "metadata": {},
   "outputs": [
    {
     "name": "stdout",
     "output_type": "stream",
     "text": [
      "       A  B  C\n",
      "bob    0  1  2\n",
      "alice  3  4  5\n"
     ]
    }
   ],
   "source": [
    "s1 = pd.Series([0, 1, 2], index=idx, name=\"bob\")\n",
    "s2 = pd.Series([3, 4, 5], index=idx, name=\"alice\")\n",
    "df = pd.DataFrame([s1, s2])\n",
    "print(df)"
   ]
  },
  {
   "cell_type": "code",
   "execution_count": 130,
   "id": "0db8f100",
   "metadata": {},
   "outputs": [
    {
     "name": "stdout",
     "output_type": "stream",
     "text": [
      "       A  B  C\n",
      "bob    0  1  2\n",
      "alice  3  4  5\n"
     ]
    }
   ],
   "source": [
    "s1 = pd.Series(d1, name=\"bob\")\n",
    "s2 = pd.Series(d2, name=\"alice\")\n",
    "df = pd.DataFrame([s1, s2])\n",
    "print(df)"
   ]
  },
  {
   "cell_type": "code",
   "execution_count": 135,
   "id": "c022895d",
   "metadata": {},
   "outputs": [
    {
     "data": {
      "text/html": [
       "<div>\n",
       "<style scoped>\n",
       "    .dataframe tbody tr th:only-of-type {\n",
       "        vertical-align: middle;\n",
       "    }\n",
       "\n",
       "    .dataframe tbody tr th {\n",
       "        vertical-align: top;\n",
       "    }\n",
       "\n",
       "    .dataframe thead th {\n",
       "        text-align: right;\n",
       "    }\n",
       "</style>\n",
       "<table border=\"1\" class=\"dataframe\">\n",
       "  <thead>\n",
       "    <tr style=\"text-align: right;\">\n",
       "      <th></th>\n",
       "      <th>A</th>\n",
       "      <th>B</th>\n",
       "      <th>C</th>\n",
       "    </tr>\n",
       "  </thead>\n",
       "  <tbody>\n",
       "    <tr>\n",
       "      <th>bob</th>\n",
       "      <td>0</td>\n",
       "      <td>1</td>\n",
       "      <td>2</td>\n",
       "    </tr>\n",
       "    <tr>\n",
       "      <th>alice</th>\n",
       "      <td>3</td>\n",
       "      <td>4</td>\n",
       "      <td>5</td>\n",
       "    </tr>\n",
       "  </tbody>\n",
       "</table>\n",
       "</div>"
      ],
      "text/plain": [
       "       A  B  C\n",
       "bob    0  1  2\n",
       "alice  3  4  5"
      ]
     },
     "execution_count": 135,
     "metadata": {},
     "output_type": "execute_result"
    }
   ],
   "source": [
    "df"
   ]
  },
  {
   "cell_type": "code",
   "execution_count": 136,
   "id": "daf40bc6",
   "metadata": {},
   "outputs": [
    {
     "data": {
      "text/plain": [
       "{'A': {'bob': 0, 'alice': 3},\n",
       " 'B': {'bob': 1, 'alice': 4},\n",
       " 'C': {'bob': 2, 'alice': 5}}"
      ]
     },
     "execution_count": 136,
     "metadata": {},
     "output_type": "execute_result"
    }
   ],
   "source": [
    "# orient=\"dict\" {column -> {index -> value}} *デフォルト\n",
    "# orient=\"list\" {column -> [values]}\n",
    "d_dict = df.to_dict(orient=\"dict\")\n",
    "d_dict"
   ]
  },
  {
   "cell_type": "code",
   "execution_count": 138,
   "id": "4adcda88",
   "metadata": {},
   "outputs": [
    {
     "name": "stdout",
     "output_type": "stream",
     "text": [
      "{'A': [0, 3], 'B': [1, 4], 'C': [2, 5]}\n"
     ]
    }
   ],
   "source": [
    "d_list = df.to_dict(orient=\"list\")\n",
    "print(d_list)"
   ]
  },
  {
   "cell_type": "code",
   "execution_count": 139,
   "id": "2d4a1978",
   "metadata": {},
   "outputs": [
    {
     "name": "stdout",
     "output_type": "stream",
     "text": [
      "{'A': bob      0\n",
      "alice    3\n",
      "Name: A, dtype: int64, 'B': bob      1\n",
      "alice    4\n",
      "Name: B, dtype: int64, 'C': bob      2\n",
      "alice    5\n",
      "Name: C, dtype: int64}\n"
     ]
    }
   ],
   "source": [
    "d_series = df.to_dict(orient=\"series\")\n",
    "print(d_series)"
   ]
  },
  {
   "cell_type": "code",
   "execution_count": 140,
   "id": "93598d06",
   "metadata": {},
   "outputs": [
    {
     "data": {
      "text/html": [
       "<table border=\"1\" class=\"dataframe\">\n",
       "  <thead>\n",
       "    <tr style=\"text-align: right;\">\n",
       "      <th></th>\n",
       "      <th>A</th>\n",
       "      <th>B</th>\n",
       "      <th>C</th>\n",
       "    </tr>\n",
       "  </thead>\n",
       "  <tbody>\n",
       "    <tr>\n",
       "      <th>bob</th>\n",
       "      <td>0</td>\n",
       "      <td>1</td>\n",
       "      <td>2</td>\n",
       "    </tr>\n",
       "    <tr>\n",
       "      <th>alice</th>\n",
       "      <td>3</td>\n",
       "      <td>4</td>\n",
       "      <td>5</td>\n",
       "    </tr>\n",
       "  </tbody>\n",
       "</table>"
      ],
      "text/plain": [
       "<IPython.core.display.HTML object>"
      ]
     },
     "execution_count": 140,
     "metadata": {},
     "output_type": "execute_result"
    }
   ],
   "source": [
    "from IPython.display import HTML\n",
    "d_html = df.to_html()\n",
    "HTML(d_html)"
   ]
  },
  {
   "cell_type": "code",
   "execution_count": 142,
   "id": "70707538",
   "metadata": {},
   "outputs": [
    {
     "name": "stdout",
     "output_type": "stream",
     "text": [
      "{\"A\":{\"bob\":0,\"alice\":3},\"B\":{\"bob\":1,\"alice\":4},\"C\":{\"bob\":2,\"alice\":5}}\n"
     ]
    }
   ],
   "source": [
    "print(df.to_json(orient=\"columns\"))"
   ]
  },
  {
   "cell_type": "code",
   "execution_count": 151,
   "id": "8aa7e082",
   "metadata": {},
   "outputs": [
    {
     "name": "stdout",
     "output_type": "stream",
     "text": [
      "{\"ボブ\":{\"A\":0,\"B\":1,\"C\":2},\"アリス\":{\"A\":3,\"B\":4,\"C\":5}}\n"
     ]
    }
   ],
   "source": [
    "dic = {\"ボブ\": [0, 1, 2], \"アリス\": [3, 4, 5]}\n",
    "df = pd.DataFrame(dic, index=[\"A\", \"B\", \"C\"])\n",
    "print(df.to_json(force_ascii=False)) # 全角文字（日本語）などをUnicodeエスケープしない"
   ]
  },
  {
   "cell_type": "code",
   "execution_count": 152,
   "id": "dfd3e004",
   "metadata": {},
   "outputs": [],
   "source": [
    "j = df.to_json(force_ascii=False) # 全角文字（日本語）などをUnicodeエスケープしない\n",
    "p = \"./example.json\"\n",
    "with open(p, \"w\", encoding=\"utf-8\") as f:\n",
    "    f.write(j)"
   ]
  },
  {
   "cell_type": "code",
   "execution_count": 153,
   "id": "51f3bb4c",
   "metadata": {},
   "outputs": [
    {
     "data": {
      "text/plain": [
       "{'ボブ': {'A': 0, 'B': 1, 'C': 2}, 'アリス': {'A': 3, 'B': 4, 'C': 5}}"
      ]
     },
     "execution_count": 153,
     "metadata": {},
     "output_type": "execute_result"
    }
   ],
   "source": [
    "p = \"./example.json\"\n",
    "with open(p, \"r\", encoding=\"utf-8\") as f:\n",
    "    read_dic = json.load(f)\n",
    "print(read_dic)"
   ]
  },
  {
   "cell_type": "code",
   "execution_count": 158,
   "id": "f611be19",
   "metadata": {},
   "outputs": [
    {
     "name": "stdout",
     "output_type": "stream",
     "text": [
      "     A  B  C\n",
      "ボブ   0  1  2\n",
      "アリス  3  4  5\n"
     ]
    }
   ],
   "source": [
    "df = pd.DataFrame(read_dic)\n",
    "print(df.T)"
   ]
  },
  {
   "cell_type": "code",
   "execution_count": 4,
   "id": "cd97c7e7",
   "metadata": {},
   "outputs": [
    {
     "data": {
      "text/html": [
       "<div>\n",
       "<style scoped>\n",
       "    .dataframe tbody tr th:only-of-type {\n",
       "        vertical-align: middle;\n",
       "    }\n",
       "\n",
       "    .dataframe tbody tr th {\n",
       "        vertical-align: top;\n",
       "    }\n",
       "\n",
       "    .dataframe thead th {\n",
       "        text-align: right;\n",
       "    }\n",
       "</style>\n",
       "<table border=\"1\" class=\"dataframe\">\n",
       "  <thead>\n",
       "    <tr style=\"text-align: right;\">\n",
       "      <th></th>\n",
       "      <th>sepal_length</th>\n",
       "      <th>sepal_width</th>\n",
       "      <th>petal_length</th>\n",
       "      <th>petal_width</th>\n",
       "      <th>species</th>\n",
       "    </tr>\n",
       "  </thead>\n",
       "  <tbody>\n",
       "    <tr>\n",
       "      <th>0</th>\n",
       "      <td>5.1</td>\n",
       "      <td>3.5</td>\n",
       "      <td>1.4</td>\n",
       "      <td>0.2</td>\n",
       "      <td>setosa</td>\n",
       "    </tr>\n",
       "    <tr>\n",
       "      <th>1</th>\n",
       "      <td>4.9</td>\n",
       "      <td>3.0</td>\n",
       "      <td>1.4</td>\n",
       "      <td>0.2</td>\n",
       "      <td>setosa</td>\n",
       "    </tr>\n",
       "    <tr>\n",
       "      <th>2</th>\n",
       "      <td>4.7</td>\n",
       "      <td>3.2</td>\n",
       "      <td>1.3</td>\n",
       "      <td>0.2</td>\n",
       "      <td>setosa</td>\n",
       "    </tr>\n",
       "    <tr>\n",
       "      <th>3</th>\n",
       "      <td>4.6</td>\n",
       "      <td>3.1</td>\n",
       "      <td>1.5</td>\n",
       "      <td>0.2</td>\n",
       "      <td>setosa</td>\n",
       "    </tr>\n",
       "    <tr>\n",
       "      <th>4</th>\n",
       "      <td>5.0</td>\n",
       "      <td>3.6</td>\n",
       "      <td>1.4</td>\n",
       "      <td>0.2</td>\n",
       "      <td>setosa</td>\n",
       "    </tr>\n",
       "  </tbody>\n",
       "</table>\n",
       "</div>"
      ],
      "text/plain": [
       "   sepal_length  sepal_width  petal_length  petal_width species\n",
       "0           5.1          3.5           1.4          0.2  setosa\n",
       "1           4.9          3.0           1.4          0.2  setosa\n",
       "2           4.7          3.2           1.3          0.2  setosa\n",
       "3           4.6          3.1           1.5          0.2  setosa\n",
       "4           5.0          3.6           1.4          0.2  setosa"
      ]
     },
     "execution_count": 4,
     "metadata": {},
     "output_type": "execute_result"
    }
   ],
   "source": [
    "import seaborn as sns\n",
    "iris = sns.load_dataset('iris')\n",
    "\n",
    "df = iris.head(5)\n",
    "df"
   ]
  },
  {
   "cell_type": "code",
   "execution_count": 20,
   "id": "1f8b1fe5",
   "metadata": {},
   "outputs": [
    {
     "data": {
      "text/plain": [
       "[0, 2, 4, 6, 8, 10, 12, 14, 16, 18]"
      ]
     },
     "execution_count": 20,
     "metadata": {},
     "output_type": "execute_result"
    }
   ],
   "source": [
    "x = 10\n",
    "list(range(0, x*2, 2))"
   ]
  },
  {
   "cell_type": "code",
   "execution_count": 29,
   "id": "56339eca",
   "metadata": {},
   "outputs": [
    {
     "name": "stdout",
     "output_type": "stream",
     "text": [
      "ham e\n"
     ]
    }
   ],
   "source": [
    "def spam(ham, eggs=None):\n",
    "    if not eggs:\n",
    "        print(\"eggs\")\n",
    "    print(ham, eggs)\n",
    "    \n",
    "spam(\"ham\", \"e\")"
   ]
  },
  {
   "cell_type": "code",
   "execution_count": null,
   "id": "a8bfdebf",
   "metadata": {},
   "outputs": [],
   "source": []
  }
 ],
 "metadata": {
  "kernelspec": {
   "display_name": "Python 3",
   "language": "python",
   "name": "python3"
  },
  "language_info": {
   "codemirror_mode": {
    "name": "ipython",
    "version": 3
   },
   "file_extension": ".py",
   "mimetype": "text/x-python",
   "name": "python",
   "nbconvert_exporter": "python",
   "pygments_lexer": "ipython3",
   "version": "3.9.1"
  }
 },
 "nbformat": 4,
 "nbformat_minor": 5
}
